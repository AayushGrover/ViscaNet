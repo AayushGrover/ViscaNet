{
 "metadata": {
  "language_info": {
   "codemirror_mode": {
    "name": "ipython",
    "version": 3
   },
   "file_extension": ".py",
   "mimetype": "text/x-python",
   "name": "python",
   "nbconvert_exporter": "python",
   "pygments_lexer": "ipython3",
   "version": "3.7.6-final"
  },
  "orig_nbformat": 2,
  "kernelspec": {
   "name": "python37664bitbaseconda8a657cacb13946bba19f9da03ab68860",
   "display_name": "Python 3.7.6 64-bit ('base': conda)"
  }
 },
 "nbformat": 4,
 "nbformat_minor": 2,
 "cells": [
  {
   "cell_type": "code",
   "execution_count": 1,
   "metadata": {},
   "outputs": [],
   "source": [
    "import pandas as pd\n",
    "import numpy as np"
   ]
  },
  {
   "cell_type": "code",
   "execution_count": 2,
   "metadata": {},
   "outputs": [
    {
     "output_type": "execute_result",
     "data": {
      "text/plain": [
       "           Title                                        s_sd_SMILES  \\\n",
       "0       Inositol   O[C@H]1[C@H](O)[C@@H](O)[C@H](O)[C@H](O)[C@@H]1O   \n",
       "1    Sapropterin  [H][C@@]1(CNC2=C(N1)C(=O)NC(N)=N2)[C@@H](O)[C@...   \n",
       "2     Pirbuterol                   CC(C)(C)NCC(O)C1=NC(CO)=C(O)C=C1   \n",
       "3  Amifampridine                                      NC1=CNC=CC1=N   \n",
       "4      Piracetam                                   OC(=N)CN1CCCC1=O   \n",
       "\n",
       "   A1_contact  A1_backbone  A1_sidechain  A1_polar  A1_hydrophobic  \\\n",
       "0           0            0             0         0               0   \n",
       "1           0            0             0         0               0   \n",
       "2           0            0             0         0               0   \n",
       "3           0            0             0         0               0   \n",
       "4           0            0             0         0               0   \n",
       "\n",
       "   A1_acceptor  A1_donor  A1_aromatic  ...  r_i_glide_evdw  r_i_glide_hbond  \\\n",
       "0            0         0            0  ...       -7.624885         0.000000   \n",
       "1            0         0            0  ...      -16.048264        -0.996614   \n",
       "2            0         0            0  ...      -11.391942        -1.072689   \n",
       "3            0         0            0  ...      -11.987103        -0.587237   \n",
       "4            0         0            0  ...      -15.748099        -0.745162   \n",
       "\n",
       "   r_i_glide_ligand_efficiency  r_i_glide_ligand_efficiency_ln  \\\n",
       "0                    -0.524937                       -1.807581   \n",
       "1                    -0.368021                       -1.632146   \n",
       "2                    -0.367567                       -1.630133   \n",
       "3                    -0.769264                       -1.998451   \n",
       "4                    -0.614979                       -1.862114   \n",
       "\n",
       "   r_i_glide_ligand_efficiency_sa  r_i_glide_lipo  r_i_glide_metal  \\\n",
       "0                       -1.201807       -0.641728                0   \n",
       "1                       -0.946287       -0.326527                0   \n",
       "2                       -0.945119       -0.539442                0   \n",
       "3                       -1.538528       -0.646169                0   \n",
       "4                       -1.324932       -0.378973                0   \n",
       "\n",
       "   r_i_glide_rewards  r_lp_Energy  r_lp_tautomer_probability  \n",
       "0          -2.180755    19.618626                        1.0  \n",
       "1          -1.764224     3.351215                        1.0  \n",
       "2          -1.763818    18.383986                        1.0  \n",
       "3          -2.250000    20.994773                        1.0  \n",
       "4          -2.542425    -9.245421                        1.0  \n",
       "\n",
       "[5 rows x 1076 columns]"
      ],
      "text/html": "<div>\n<style scoped>\n    .dataframe tbody tr th:only-of-type {\n        vertical-align: middle;\n    }\n\n    .dataframe tbody tr th {\n        vertical-align: top;\n    }\n\n    .dataframe thead th {\n        text-align: right;\n    }\n</style>\n<table border=\"1\" class=\"dataframe\">\n  <thead>\n    <tr style=\"text-align: right;\">\n      <th></th>\n      <th>Title</th>\n      <th>s_sd_SMILES</th>\n      <th>A1_contact</th>\n      <th>A1_backbone</th>\n      <th>A1_sidechain</th>\n      <th>A1_polar</th>\n      <th>A1_hydrophobic</th>\n      <th>A1_acceptor</th>\n      <th>A1_donor</th>\n      <th>A1_aromatic</th>\n      <th>...</th>\n      <th>r_i_glide_evdw</th>\n      <th>r_i_glide_hbond</th>\n      <th>r_i_glide_ligand_efficiency</th>\n      <th>r_i_glide_ligand_efficiency_ln</th>\n      <th>r_i_glide_ligand_efficiency_sa</th>\n      <th>r_i_glide_lipo</th>\n      <th>r_i_glide_metal</th>\n      <th>r_i_glide_rewards</th>\n      <th>r_lp_Energy</th>\n      <th>r_lp_tautomer_probability</th>\n    </tr>\n  </thead>\n  <tbody>\n    <tr>\n      <th>0</th>\n      <td>Inositol</td>\n      <td>O[C@H]1[C@H](O)[C@@H](O)[C@H](O)[C@H](O)[C@@H]1O</td>\n      <td>0</td>\n      <td>0</td>\n      <td>0</td>\n      <td>0</td>\n      <td>0</td>\n      <td>0</td>\n      <td>0</td>\n      <td>0</td>\n      <td>...</td>\n      <td>-7.624885</td>\n      <td>0.000000</td>\n      <td>-0.524937</td>\n      <td>-1.807581</td>\n      <td>-1.201807</td>\n      <td>-0.641728</td>\n      <td>0</td>\n      <td>-2.180755</td>\n      <td>19.618626</td>\n      <td>1.0</td>\n    </tr>\n    <tr>\n      <th>1</th>\n      <td>Sapropterin</td>\n      <td>[H][C@@]1(CNC2=C(N1)C(=O)NC(N)=N2)[C@@H](O)[C@...</td>\n      <td>0</td>\n      <td>0</td>\n      <td>0</td>\n      <td>0</td>\n      <td>0</td>\n      <td>0</td>\n      <td>0</td>\n      <td>0</td>\n      <td>...</td>\n      <td>-16.048264</td>\n      <td>-0.996614</td>\n      <td>-0.368021</td>\n      <td>-1.632146</td>\n      <td>-0.946287</td>\n      <td>-0.326527</td>\n      <td>0</td>\n      <td>-1.764224</td>\n      <td>3.351215</td>\n      <td>1.0</td>\n    </tr>\n    <tr>\n      <th>2</th>\n      <td>Pirbuterol</td>\n      <td>CC(C)(C)NCC(O)C1=NC(CO)=C(O)C=C1</td>\n      <td>0</td>\n      <td>0</td>\n      <td>0</td>\n      <td>0</td>\n      <td>0</td>\n      <td>0</td>\n      <td>0</td>\n      <td>0</td>\n      <td>...</td>\n      <td>-11.391942</td>\n      <td>-1.072689</td>\n      <td>-0.367567</td>\n      <td>-1.630133</td>\n      <td>-0.945119</td>\n      <td>-0.539442</td>\n      <td>0</td>\n      <td>-1.763818</td>\n      <td>18.383986</td>\n      <td>1.0</td>\n    </tr>\n    <tr>\n      <th>3</th>\n      <td>Amifampridine</td>\n      <td>NC1=CNC=CC1=N</td>\n      <td>0</td>\n      <td>0</td>\n      <td>0</td>\n      <td>0</td>\n      <td>0</td>\n      <td>0</td>\n      <td>0</td>\n      <td>0</td>\n      <td>...</td>\n      <td>-11.987103</td>\n      <td>-0.587237</td>\n      <td>-0.769264</td>\n      <td>-1.998451</td>\n      <td>-1.538528</td>\n      <td>-0.646169</td>\n      <td>0</td>\n      <td>-2.250000</td>\n      <td>20.994773</td>\n      <td>1.0</td>\n    </tr>\n    <tr>\n      <th>4</th>\n      <td>Piracetam</td>\n      <td>OC(=N)CN1CCCC1=O</td>\n      <td>0</td>\n      <td>0</td>\n      <td>0</td>\n      <td>0</td>\n      <td>0</td>\n      <td>0</td>\n      <td>0</td>\n      <td>0</td>\n      <td>...</td>\n      <td>-15.748099</td>\n      <td>-0.745162</td>\n      <td>-0.614979</td>\n      <td>-1.862114</td>\n      <td>-1.324932</td>\n      <td>-0.378973</td>\n      <td>0</td>\n      <td>-2.542425</td>\n      <td>-9.245421</td>\n      <td>1.0</td>\n    </tr>\n  </tbody>\n</table>\n<p>5 rows × 1076 columns</p>\n</div>"
     },
     "metadata": {},
     "execution_count": 2
    }
   ],
   "source": [
    "df = pd.read_csv('./data/nsp1_deep_fda_htvs_sift.tsv',sep='\\t', header=1)\n",
    "df_cols = pd.read_csv('./data/new_data/train/df1.csv')\n",
    "cols = list(df_cols.columns.values)\n",
    "cols = ['Title','s_sd_SMILES'] + cols[1:]\n",
    "df = df[cols]\n",
    "df.head()"
   ]
  },
  {
   "cell_type": "code",
   "execution_count": 3,
   "metadata": {},
   "outputs": [
    {
     "output_type": "execute_result",
     "data": {
      "text/plain": [
       "1074"
      ]
     },
     "metadata": {},
     "execution_count": 3
    }
   ],
   "source": [
    "feat_cols = cols\n",
    "feat_cols.remove('s_sd_SMILES')\n",
    "feat_cols.remove('r_i_docking_score')\n",
    "len(feat_cols)"
   ]
  },
  {
   "cell_type": "code",
   "execution_count": 4,
   "metadata": {},
   "outputs": [],
   "source": [
    "smiles = 's_sd_SMILES'\n",
    "db_id = 's_sd_DRUGBANK\\\\_ID'\n",
    "df_map = pd.read_csv('./data/nsp1_deep_fda_htvs_sift.tsv', sep='\\t', header=1)\n",
    "df_smiles = df_map[smiles].tolist()\n",
    "df_db = df_map[db_id].tolist()\n",
    "smiles2id = dict(zip(df_smiles, df_db)) "
   ]
  },
  {
   "cell_type": "code",
   "execution_count": 5,
   "metadata": {
    "tags": []
   },
   "outputs": [],
   "source": [
    "# scores = sorted(df['r_i_docking_score'].tolist())\n",
    "# print((scores[100]+scores[-100])/2)\n",
    "# interest = ['DB01603', 'DB00355']\n",
    "# interest = [id2smiles[x] for x in interest]\n",
    "\n",
    "def f(x):\n",
    "    if x > -3.15066:\n",
    "        return 0\n",
    "    else:\n",
    "        return 1\n",
    "# df['r_i_docking_score'] = df['r_i_docking_score'].apply(lambda x: f(x))\n",
    "df['db_id'] = df['s_sd_SMILES'].apply(lambda x: smiles2id[x])\n",
    "df = df[['db_id', 'Title', 'r_i_docking_score']].sort_values(by='r_i_docking_score')"
   ]
  },
  {
   "cell_type": "code",
   "execution_count": 14,
   "metadata": {},
   "outputs": [
    {
     "output_type": "execute_result",
     "data": {
      "text/plain": [
       "     db_id                                        s_sd_SMILES  \\\n",
       "0  DB13178   O[C@H]1[C@H](O)[C@@H](O)[C@H](O)[C@H](O)[C@@H]1O   \n",
       "1  DB00360  [H][C@@]1(CNC2=C(N1)C(=O)NC(N)=N2)[C@@H](O)[C@...   \n",
       "2  DB01291                   CC(C)(C)NCC(O)C1=NC(CO)=C(O)C=C1   \n",
       "3  DB11640                                      NC1=CNC=CC1=N   \n",
       "4  DB09210                                   OC(=N)CN1CCCC1=O   \n",
       "\n",
       "   r_i_docking_score  \n",
       "0          -6.299249  \n",
       "1          -6.256363  \n",
       "2          -6.248646  \n",
       "3          -6.154113  \n",
       "4          -6.149790  "
      ],
      "text/html": "<div>\n<style scoped>\n    .dataframe tbody tr th:only-of-type {\n        vertical-align: middle;\n    }\n\n    .dataframe tbody tr th {\n        vertical-align: top;\n    }\n\n    .dataframe thead th {\n        text-align: right;\n    }\n</style>\n<table border=\"1\" class=\"dataframe\">\n  <thead>\n    <tr style=\"text-align: right;\">\n      <th></th>\n      <th>db_id</th>\n      <th>s_sd_SMILES</th>\n      <th>r_i_docking_score</th>\n    </tr>\n  </thead>\n  <tbody>\n    <tr>\n      <th>0</th>\n      <td>DB13178</td>\n      <td>O[C@H]1[C@H](O)[C@@H](O)[C@H](O)[C@H](O)[C@@H]1O</td>\n      <td>-6.299249</td>\n    </tr>\n    <tr>\n      <th>1</th>\n      <td>DB00360</td>\n      <td>[H][C@@]1(CNC2=C(N1)C(=O)NC(N)=N2)[C@@H](O)[C@...</td>\n      <td>-6.256363</td>\n    </tr>\n    <tr>\n      <th>2</th>\n      <td>DB01291</td>\n      <td>CC(C)(C)NCC(O)C1=NC(CO)=C(O)C=C1</td>\n      <td>-6.248646</td>\n    </tr>\n    <tr>\n      <th>3</th>\n      <td>DB11640</td>\n      <td>NC1=CNC=CC1=N</td>\n      <td>-6.154113</td>\n    </tr>\n    <tr>\n      <th>4</th>\n      <td>DB09210</td>\n      <td>OC(=N)CN1CCCC1=O</td>\n      <td>-6.149790</td>\n    </tr>\n  </tbody>\n</table>\n</div>"
     },
     "metadata": {},
     "execution_count": 14
    }
   ],
   "source": [
    "df.head(5)"
   ]
  },
  {
   "cell_type": "code",
   "execution_count": 23,
   "metadata": {},
   "outputs": [],
   "source": [
    "df_feat = df[feat_cols]\n",
    "feat_arr = df_feat.to_numpy()\n",
    "np.save('./data/fda.npy', feat_arr)"
   ]
  },
  {
   "cell_type": "code",
   "execution_count": 6,
   "metadata": {},
   "outputs": [],
   "source": [
    "df.to_csv('./data/fda-sorted.csv', index=None)"
   ]
  },
  {
   "cell_type": "code",
   "execution_count": null,
   "metadata": {},
   "outputs": [],
   "source": []
  }
 ]
}