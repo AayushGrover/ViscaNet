{
 "metadata": {
  "language_info": {
   "codemirror_mode": {
    "name": "ipython",
    "version": 3
   },
   "file_extension": ".py",
   "mimetype": "text/x-python",
   "name": "python",
   "nbconvert_exporter": "python",
   "pygments_lexer": "ipython3",
   "version": "3.7.6-final"
  },
  "orig_nbformat": 2,
  "kernelspec": {
   "name": "python37664bitbaseconda8a657cacb13946bba19f9da03ab68860",
   "display_name": "Python 3.7.6 64-bit ('base': conda)"
  }
 },
 "nbformat": 4,
 "nbformat_minor": 2,
 "cells": [
  {
   "cell_type": "code",
   "execution_count": 1,
   "metadata": {},
   "outputs": [],
   "source": [
    "import pandas as pd"
   ]
  },
  {
   "cell_type": "code",
   "execution_count": 2,
   "metadata": {},
   "outputs": [],
   "source": [
    "df = pd.read_csv('./data/nsp1_deep_fda_htvs_sift.tsv', sep='\\t', header=1)\n",
    "cols = list(df.columns.values)[-100:]"
   ]
  },
  {
   "cell_type": "code",
   "execution_count": 3,
   "metadata": {},
   "outputs": [
    {
     "output_type": "execute_result",
     "data": {
      "text/plain": [
       "False"
      ]
     },
     "metadata": {},
     "execution_count": 3
    }
   ],
   "source": [
    "smiles = 's_sd_SMILES'\n",
    "db_id = 's_sd_DRUGBANK\\\\_ID'\n",
    "df[db_id].isnull().any()"
   ]
  },
  {
   "cell_type": "code",
   "execution_count": 4,
   "metadata": {},
   "outputs": [],
   "source": [
    "df_smiles = df[smiles].tolist()\n",
    "df_db = df[db_id].tolist()\n",
    "smiles2db = dict(zip(df_smiles, df_db))"
   ]
  },
  {
   "cell_type": "code",
   "execution_count": 5,
   "metadata": {},
   "outputs": [],
   "source": [
    "df_tp = pd.read_csv('./inference/supernatural/deepsite/TruePositives.csv')\n",
    "df_fp = pd.read_csv('./inference/supernatural/deepsite/FalsePositives.csv')\n",
    "# df_tn = pd.read_csv('./inference/fda/deepsite/TrueNegatives.csv')\n",
    "# df_fn = pd.read_csv('./inference/fda/deepsite/FalseNegatives.csv')"
   ]
  },
  {
   "cell_type": "code",
   "execution_count": 6,
   "metadata": {},
   "outputs": [],
   "source": [
    "df_tp['drugbank_id'] = df_tp['s_sd_SMILES'].apply(lambda x: smiles2db[x])\n",
    "df_fp['drugbank_id'] = df_fp['s_sd_SMILES'].apply(lambda x: smiles2db[x])\n",
    "# df_tn['drugbank_id'] = df_tn['s_sd_SMILES'].apply(lambda x: smiles2db[x])\n",
    "# df_fn['drugbank_id'] = df_fn['s_sd_SMILES'].apply(lambda x: smiles2db[x])"
   ]
  },
  {
   "cell_type": "code",
   "execution_count": 7,
   "metadata": {},
   "outputs": [],
   "source": [
    "cols = list(df_fp.columns.values)\n",
    "for col in cols:\n",
    "    if 'Unnamed' in col:\n",
    "        cols.remove(col)\n",
    "cols.remove('drugbank_id')\n",
    "cols = ['drugbank_id'] + cols"
   ]
  },
  {
   "cell_type": "code",
   "execution_count": 8,
   "metadata": {},
   "outputs": [],
   "source": [
    "df_fp = df_fp[cols]\n",
    "df_tp = df_tp[cols]\n",
    "# df_tn = df_tn[cols]\n",
    "# df_fn = df_fn[cols]"
   ]
  },
  {
   "cell_type": "code",
   "execution_count": 9,
   "metadata": {},
   "outputs": [],
   "source": [
    "df_tp.to_csv('./inference/supernatural/deepsite/TruePositives.csv', index=False)\n",
    "df_fp.to_csv('./inference/supernatural/deepsite/FalsePositives.csv', index=False)\n",
    "# df_tn.to_csv('./inference/fda/deepsite/TrueNegatives.csv', index=False)\n",
    "# df_fn.to_csv('./inference/fda/deepsite/FalseNegatives.csv', index=False)"
   ]
  },
  {
   "cell_type": "code",
   "execution_count": null,
   "metadata": {},
   "outputs": [],
   "source": []
  }
 ]
}