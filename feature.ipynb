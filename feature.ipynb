{
 "metadata": {
  "language_info": {
   "codemirror_mode": {
    "name": "ipython",
    "version": 3
   },
   "file_extension": ".py",
   "mimetype": "text/x-python",
   "name": "python",
   "nbconvert_exporter": "python",
   "pygments_lexer": "ipython3",
   "version": "3.7.6-final"
  },
  "orig_nbformat": 2,
  "kernelspec": {
   "name": "python3",
   "display_name": "Python 3"
  }
 },
 "nbformat": 4,
 "nbformat_minor": 2,
 "cells": [
  {
   "cell_type": "code",
   "execution_count": 1,
   "metadata": {},
   "outputs": [],
   "source": [
    "import pandas as pd\n",
    "import numpy as np"
   ]
  },
  {
   "cell_type": "code",
   "execution_count": 2,
   "metadata": {
    "tags": []
   },
   "outputs": [
    {
     "output_type": "stream",
     "name": "stdout",
     "text": [
      "(11312, 1073)\n",
      "(10160, 1073)\n",
      "(11339, 1073)\n",
      "(11438, 1073)\n",
      "(8633, 1073)\n",
      "(11167, 1073)\n",
      "(9901, 1073)\n",
      "(11787, 1073)\n",
      "(10983, 1073)\n",
      "(2328, 1073)\n",
      "(11706, 1073)\n",
      "(10885, 1073)\n",
      "(11192, 1073)\n",
      "(9963, 1073)\n",
      "(11225, 1073)\n",
      "(10137, 1073)\n",
      "(11274, 1073)\n",
      "(11218, 1073)\n",
      "(11968, 1073)\n",
      "(11129, 1073)\n",
      "(11191, 1073)\n",
      "(11283, 1073)\n",
      "(11571, 1073)\n",
      "(11208, 1073)\n",
      "(11111, 1073)\n"
     ]
    }
   ],
   "source": [
    "for j in range(25):\n",
    "    i = j+1\n",
    "    df = pd.read_csv(f'./data/new_data/df{i}.csv')\n",
    "    target_col = 'r_i_docking_score'\n",
    "    smiles_col = 'smiles'\n",
    "    feat_cols = df.columns.tolist()\n",
    "    feat_cols.remove(smiles_col)\n",
    "    feat_cols.remove(target_col)\n",
    "    df_feat = df[feat_cols]\n",
    "    all_feat_np = df_feat.to_numpy()\n",
    "    print(df_feat.shape)\n",
    "    # break\n",
    "    # df_feat.to_csv('../data/all_feat.csv', index=None)\n",
    "    np.save(f'./data/new_data_feats/df{i}.npy', all_feat_np)"
   ]
  },
  {
   "cell_type": "code",
   "execution_count": 3,
   "metadata": {},
   "outputs": [
    {
     "output_type": "execute_result",
     "data": {
      "text/plain": [
       "'r_lp_tautomer_probability'"
      ]
     },
     "metadata": {},
     "execution_count": 3
    }
   ],
   "source": [
    "feat_cols[-1]"
   ]
  },
  {
   "cell_type": "code",
   "execution_count": 4,
   "metadata": {},
   "outputs": [
    {
     "output_type": "stream",
     "name": "stdout",
     "text": [
      "(4, 1073)\n"
     ]
    }
   ],
   "source": [
    "df = pd.read_csv('./data/new_data/test/sp_new.csv')\n",
    "target_col = 'r_i_docking_score'\n",
    "smiles_col = 'smiles'\n",
    "feat_cols = df.columns.tolist()\n",
    "feat_cols.remove(smiles_col)\n",
    "feat_cols.remove(target_col)\n",
    "feat_cols.remove('Title')\n",
    "df_feat = df[feat_cols]\n",
    "all_feat_np = df_feat.to_numpy()\n",
    "print(df_feat.shape)\n",
    "# break\n",
    "# df_feat.to_csv('../data/all_feat.csv', index=None)\n",
    "np.save(f'./data/new_data_feats/test/sp_new.npy', all_feat_np)"
   ]
  },
  {
   "cell_type": "code",
   "execution_count": null,
   "metadata": {},
   "outputs": [],
   "source": []
  }
 ]
}