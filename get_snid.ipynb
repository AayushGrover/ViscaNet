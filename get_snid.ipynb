{
 "metadata": {
  "language_info": {
   "codemirror_mode": {
    "name": "ipython",
    "version": 3
   },
   "file_extension": ".py",
   "mimetype": "text/x-python",
   "name": "python",
   "nbconvert_exporter": "python",
   "pygments_lexer": "ipython3",
   "version": "3.7.6-final"
  },
  "orig_nbformat": 2,
  "kernelspec": {
   "name": "python37664bitbaseconda8a657cacb13946bba19f9da03ab68860",
   "display_name": "Python 3.7.6 64-bit ('base': conda)"
  }
 },
 "nbformat": 4,
 "nbformat_minor": 2,
 "cells": [
  {
   "cell_type": "code",
   "execution_count": 2,
   "metadata": {},
   "outputs": [],
   "source": [
    "import pandas as pd"
   ]
  },
  {
   "cell_type": "code",
   "execution_count": 3,
   "metadata": {},
   "outputs": [],
   "source": [
    "df_tp = pd.read_csv('./inference/supernatural/deepsite/TruePositives.csv')\n",
    "df_fp = pd.read_csv('./inference/supernatural/deepsite/FalsePositives.csv')"
   ]
  },
  {
   "cell_type": "code",
   "execution_count": 4,
   "metadata": {},
   "outputs": [],
   "source": [
    "df = pd.read_csv('./data/nsp1_supernaturaldb_sift_data/sn_id_smiles.tsv', sep='\\t')\n",
    "sn_id = df.id.tolist()\n",
    "smiles = df.smiles.tolist()\n",
    "smiles2sn_id = dict(zip(smiles, sn_id))"
   ]
  },
  {
   "cell_type": "code",
   "execution_count": 5,
   "metadata": {},
   "outputs": [],
   "source": [
    "df_tp['sn_id'] = df_tp['smiles'].apply(lambda x: smiles2sn_id[x])\n",
    "df_fp['sn_id'] = df_fp['smiles'].apply(lambda x: smiles2sn_id[x])"
   ]
  },
  {
   "cell_type": "code",
   "execution_count": 6,
   "metadata": {},
   "outputs": [],
   "source": [
    "cols = list(df_tp.columns.values)"
   ]
  },
  {
   "cell_type": "code",
   "execution_count": 7,
   "metadata": {},
   "outputs": [],
   "source": [
    "for col in cols:\n",
    "    if 'Unnamed' in col:\n",
    "        cols.remove(col)\n",
    "cols.remove('sn_id')\n",
    "cols = ['sn_id'] + cols"
   ]
  },
  {
   "cell_type": "code",
   "execution_count": 8,
   "metadata": {},
   "outputs": [],
   "source": [
    "df_tp = df_tp[cols]\n",
    "df_fp = df_fp[cols]"
   ]
  },
  {
   "cell_type": "code",
   "execution_count": 9,
   "metadata": {},
   "outputs": [
    {
     "output_type": "execute_result",
     "data": {
      "text/plain": "        sn_id  Pred                                             smiles  \\\n0  SN00227931   1.0  [C@@H]1([C@@H](O[C@@H]([C@H]([C@@H]1O)O)COC(=O...   \n1  SN00214112   1.0                      c12c(c(c(c(=O)o2)N)O)ccc(c1)O   \n2  SN00214124   1.0                        C1(=CC=CC(C1O)O)/C=C/C(=O)O   \n3  SN00214131   1.0  C1(CC2(CC(CC(CC(CC(CCCC(=O)CC(=O)OC(C(CCC(CC(=...   \n4  SN00214131   1.0  C1(CC2(CC(CC(CC(CC(CCCC(=O)CC(=O)OC(C(CCC(CC(=...   \n\n   A1_contact  A1_backbone  A1_sidechain  A1_polar  A1_hydrophobic  \\\n0           1            1             0         0               0   \n1           0            0             0         0               0   \n2           0            0             0         0               0   \n3           0            0             0         0               0   \n4           1            1             0         0               0   \n\n   A1_acceptor  A1_donor  ...  r_i_glide_gscore  r_i_glide_hbond  \\\n0            0         0  ...                 1        -0.081848   \n1            0         0  ...                 1        -0.320000   \n2            0         0  ...                 1        -0.050753   \n3            0         0  ...                 1        -0.202492   \n4            0         1  ...                 1        -0.214980   \n\n   r_i_glide_ligand_efficiency  r_i_glide_ligand_efficiency_ln  \\\n0                    -0.131735                       -0.756727   \n1                    -0.294144                       -1.131618   \n2                    -0.305849                       -1.115315   \n3                    -0.045381                       -0.660797   \n4                    -0.045945                       -0.669015   \n\n   r_i_glide_ligand_efficiency_sa  r_i_glide_lipo  r_i_glide_metal  \\\n0                       -0.379990       -1.160033                0   \n1                       -0.708930       -0.875480                0   \n2                       -0.719154       -0.369333                0   \n3                       -0.193896       -0.027237                0   \n4                       -0.196308       -0.131929                0   \n\n   r_i_glide_rewards  r_lp_Energy  r_lp_tautomer_probability  \n0          -1.134555    17.338346                     1.0000  \n1          -2.098989    25.833460                        NaN  \n2          -2.461287    21.135875                        NaN  \n3          -0.085736    21.925943                     0.9999  \n4          -0.032186    30.101791                     0.9999  \n\n[5 rows x 1081 columns]",
      "text/html": "<div>\n<style scoped>\n    .dataframe tbody tr th:only-of-type {\n        vertical-align: middle;\n    }\n\n    .dataframe tbody tr th {\n        vertical-align: top;\n    }\n\n    .dataframe thead th {\n        text-align: right;\n    }\n</style>\n<table border=\"1\" class=\"dataframe\">\n  <thead>\n    <tr style=\"text-align: right;\">\n      <th></th>\n      <th>sn_id</th>\n      <th>Pred</th>\n      <th>smiles</th>\n      <th>A1_contact</th>\n      <th>A1_backbone</th>\n      <th>A1_sidechain</th>\n      <th>A1_polar</th>\n      <th>A1_hydrophobic</th>\n      <th>A1_acceptor</th>\n      <th>A1_donor</th>\n      <th>...</th>\n      <th>r_i_glide_gscore</th>\n      <th>r_i_glide_hbond</th>\n      <th>r_i_glide_ligand_efficiency</th>\n      <th>r_i_glide_ligand_efficiency_ln</th>\n      <th>r_i_glide_ligand_efficiency_sa</th>\n      <th>r_i_glide_lipo</th>\n      <th>r_i_glide_metal</th>\n      <th>r_i_glide_rewards</th>\n      <th>r_lp_Energy</th>\n      <th>r_lp_tautomer_probability</th>\n    </tr>\n  </thead>\n  <tbody>\n    <tr>\n      <th>0</th>\n      <td>SN00227931</td>\n      <td>1.0</td>\n      <td>[C@@H]1([C@@H](O[C@@H]([C@H]([C@@H]1O)O)COC(=O...</td>\n      <td>1</td>\n      <td>1</td>\n      <td>0</td>\n      <td>0</td>\n      <td>0</td>\n      <td>0</td>\n      <td>0</td>\n      <td>...</td>\n      <td>1</td>\n      <td>-0.081848</td>\n      <td>-0.131735</td>\n      <td>-0.756727</td>\n      <td>-0.379990</td>\n      <td>-1.160033</td>\n      <td>0</td>\n      <td>-1.134555</td>\n      <td>17.338346</td>\n      <td>1.0000</td>\n    </tr>\n    <tr>\n      <th>1</th>\n      <td>SN00214112</td>\n      <td>1.0</td>\n      <td>c12c(c(c(c(=O)o2)N)O)ccc(c1)O</td>\n      <td>0</td>\n      <td>0</td>\n      <td>0</td>\n      <td>0</td>\n      <td>0</td>\n      <td>0</td>\n      <td>0</td>\n      <td>...</td>\n      <td>1</td>\n      <td>-0.320000</td>\n      <td>-0.294144</td>\n      <td>-1.131618</td>\n      <td>-0.708930</td>\n      <td>-0.875480</td>\n      <td>0</td>\n      <td>-2.098989</td>\n      <td>25.833460</td>\n      <td>NaN</td>\n    </tr>\n    <tr>\n      <th>2</th>\n      <td>SN00214124</td>\n      <td>1.0</td>\n      <td>C1(=CC=CC(C1O)O)/C=C/C(=O)O</td>\n      <td>0</td>\n      <td>0</td>\n      <td>0</td>\n      <td>0</td>\n      <td>0</td>\n      <td>0</td>\n      <td>0</td>\n      <td>...</td>\n      <td>1</td>\n      <td>-0.050753</td>\n      <td>-0.305849</td>\n      <td>-1.115315</td>\n      <td>-0.719154</td>\n      <td>-0.369333</td>\n      <td>0</td>\n      <td>-2.461287</td>\n      <td>21.135875</td>\n      <td>NaN</td>\n    </tr>\n    <tr>\n      <th>3</th>\n      <td>SN00214131</td>\n      <td>1.0</td>\n      <td>C1(CC2(CC(CC(CC(CC(CCCC(=O)CC(=O)OC(C(CCC(CC(=...</td>\n      <td>0</td>\n      <td>0</td>\n      <td>0</td>\n      <td>0</td>\n      <td>0</td>\n      <td>0</td>\n      <td>0</td>\n      <td>...</td>\n      <td>1</td>\n      <td>-0.202492</td>\n      <td>-0.045381</td>\n      <td>-0.660797</td>\n      <td>-0.193896</td>\n      <td>-0.027237</td>\n      <td>0</td>\n      <td>-0.085736</td>\n      <td>21.925943</td>\n      <td>0.9999</td>\n    </tr>\n    <tr>\n      <th>4</th>\n      <td>SN00214131</td>\n      <td>1.0</td>\n      <td>C1(CC2(CC(CC(CC(CC(CCCC(=O)CC(=O)OC(C(CCC(CC(=...</td>\n      <td>1</td>\n      <td>1</td>\n      <td>0</td>\n      <td>0</td>\n      <td>0</td>\n      <td>0</td>\n      <td>1</td>\n      <td>...</td>\n      <td>1</td>\n      <td>-0.214980</td>\n      <td>-0.045945</td>\n      <td>-0.669015</td>\n      <td>-0.196308</td>\n      <td>-0.131929</td>\n      <td>0</td>\n      <td>-0.032186</td>\n      <td>30.101791</td>\n      <td>0.9999</td>\n    </tr>\n  </tbody>\n</table>\n<p>5 rows × 1081 columns</p>\n</div>"
     },
     "metadata": {},
     "execution_count": 9
    }
   ],
   "source": [
    "df_tp.head()"
   ]
  },
  {
   "cell_type": "code",
   "execution_count": 10,
   "metadata": {},
   "outputs": [],
   "source": [
    "df_tp.to_csv('./inference/supernatural/deepsite/TruePositives.csv', index=None)\n",
    "df_fp.to_csv('./inference/supernatural/deepsite/FalsePositives.csv', index=None)"
   ]
  },
  {
   "cell_type": "code",
   "execution_count": null,
   "metadata": {},
   "outputs": [],
   "source": []
  }
 ]
}